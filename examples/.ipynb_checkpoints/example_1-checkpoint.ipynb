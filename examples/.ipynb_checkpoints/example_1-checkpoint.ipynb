{
 "cells": [
  {
   "cell_type": "markdown",
   "metadata": {},
   "source": [
    "# Example_1: Estimating groundwater recharge and actual evapotranspiration in the north-eastern part of Slovenia"
   ]
  },
  {
   "cell_type": "markdown",
   "metadata": {},
   "source": [
    "### Import packages"
   ]
  },
  {
   "cell_type": "code",
   "execution_count": 24,
   "metadata": {},
   "outputs": [],
   "source": [
    "import geopandas\n",
    "import numpy as np\n",
    "import pandas as pd\n",
    "\n",
    "from gwet.gwet import hydrotop"
   ]
  },
  {
   "cell_type": "markdown",
   "metadata": {},
   "source": [
    "### Import hydrotops shapefile using Geopandas"
   ]
  },
  {
   "cell_type": "code",
   "execution_count": 25,
   "metadata": {},
   "outputs": [
    {
     "data": {
      "text/html": [
       "<div>\n",
       "<style scoped>\n",
       "    .dataframe tbody tr th:only-of-type {\n",
       "        vertical-align: middle;\n",
       "    }\n",
       "\n",
       "    .dataframe tbody tr th {\n",
       "        vertical-align: top;\n",
       "    }\n",
       "\n",
       "    .dataframe thead th {\n",
       "        text-align: right;\n",
       "    }\n",
       "</style>\n",
       "<table border=\"1\" class=\"dataframe\">\n",
       "  <thead>\n",
       "    <tr style=\"text-align: right;\">\n",
       "      <th></th>\n",
       "      <th>landuse_id</th>\n",
       "      <th>soil_id</th>\n",
       "      <th>precip_id</th>\n",
       "      <th>geometry</th>\n",
       "    </tr>\n",
       "    <tr>\n",
       "      <th>ID</th>\n",
       "      <th></th>\n",
       "      <th></th>\n",
       "      <th></th>\n",
       "      <th></th>\n",
       "    </tr>\n",
       "  </thead>\n",
       "  <tbody>\n",
       "    <tr>\n",
       "      <th>9</th>\n",
       "      <td>3</td>\n",
       "      <td>402</td>\n",
       "      <td>2</td>\n",
       "      <td>MULTIPOLYGON (((572810.000 170990.000, 572810....</td>\n",
       "    </tr>\n",
       "    <tr>\n",
       "      <th>10</th>\n",
       "      <td>3</td>\n",
       "      <td>402</td>\n",
       "      <td>1</td>\n",
       "      <td>MULTIPOLYGON (((564680.000 173300.000, 564680....</td>\n",
       "    </tr>\n",
       "    <tr>\n",
       "      <th>5</th>\n",
       "      <td>2</td>\n",
       "      <td>406</td>\n",
       "      <td>2</td>\n",
       "      <td>MULTIPOLYGON (((574000.000 171287.871, 574000....</td>\n",
       "    </tr>\n",
       "    <tr>\n",
       "      <th>6</th>\n",
       "      <td>2</td>\n",
       "      <td>406</td>\n",
       "      <td>1</td>\n",
       "      <td>MULTIPOLYGON (((568035.000 172740.000, 568095....</td>\n",
       "    </tr>\n",
       "    <tr>\n",
       "      <th>1</th>\n",
       "      <td>1</td>\n",
       "      <td>408</td>\n",
       "      <td>2</td>\n",
       "      <td>MULTIPOLYGON (((571170.000 170280.000, 571170....</td>\n",
       "    </tr>\n",
       "  </tbody>\n",
       "</table>\n",
       "</div>"
      ],
      "text/plain": [
       "    landuse_id  soil_id  precip_id  \\\n",
       "ID                                   \n",
       "9            3      402          2   \n",
       "10           3      402          1   \n",
       "5            2      406          2   \n",
       "6            2      406          1   \n",
       "1            1      408          2   \n",
       "\n",
       "                                             geometry  \n",
       "ID                                                     \n",
       "9   MULTIPOLYGON (((572810.000 170990.000, 572810....  \n",
       "10  MULTIPOLYGON (((564680.000 173300.000, 564680....  \n",
       "5   MULTIPOLYGON (((574000.000 171287.871, 574000....  \n",
       "6   MULTIPOLYGON (((568035.000 172740.000, 568095....  \n",
       "1   MULTIPOLYGON (((571170.000 170280.000, 571170....  "
      ]
     },
     "execution_count": 25,
     "metadata": {},
     "output_type": "execute_result"
    }
   ],
   "source": [
    "hydrotops_shp = geopandas.read_file(\"example_1/shapefile/hydrotops.shp\")\n",
    "hydrotops_shp = hydrotops_shp.set_index(\"ID\")\n",
    "hydrotops_shp.head()"
   ]
  },
  {
   "cell_type": "markdown",
   "metadata": {},
   "source": [
    "### Import meteorological and precipitation data"
   ]
  },
  {
   "cell_type": "code",
   "execution_count": 26,
   "metadata": {},
   "outputs": [],
   "source": [
    "meteo1 = pd.read_csv(\"example_1/meteo.csv\", index_col = \"date\",\n",
    "                     parse_dates=True)\n",
    "precip1 = pd.read_csv(\"example_1/precip1.csv\", index_col=\"date\", sep=\";\", \n",
    "                      parse_dates=True)\n",
    "precip2 = pd.read_csv(\"example_1/precip2.csv\", index_col=\"date\", sep=\";\", \n",
    "                      parse_dates=True)\n",
    "precip = {\"1\": precip1, \"2\": precip2}"
   ]
  },
  {
   "cell_type": "markdown",
   "metadata": {},
   "source": [
    "### Create landuse database for different landuse IDs"
   ]
  },
  {
   "cell_type": "code",
   "execution_count": 27,
   "metadata": {},
   "outputs": [],
   "source": [
    "landuse1 = pd.DataFrame({\"h\": np.full(len(precip1), 0.6),\n",
    "                         \"zr\": np.full(len(precip1), 0.8),\n",
    "                         \"kcb\": np.full(len(precip1.index), 1.1)})\n",
    "landuse2 = landuse1 * 1.1\n",
    "landuse3 = landuse1 * 0.9\n",
    "landuse4 = landuse1 * 0.3\n",
    "landuse5 = landuse1 * 0.4\n",
    "landuse8 = landuse1 * 0.6\n",
    "landuse9 = landuse1 * 0.7\n",
    "landuse11 = landuse1 * 0\n",
    "\n",
    "landuse = {\"1\": landuse1, \"2\": landuse2, \"3\": landuse3, \"4\": landuse4,\n",
    "          \"5\": landuse5, \"8\": landuse8, \"9\": landuse9, \"11\": landuse11}"
   ]
  },
  {
   "cell_type": "markdown",
   "metadata": {},
   "source": [
    "### Create soil database for different soil type IDs"
   ]
  },
  {
   "cell_type": "code",
   "execution_count": 28,
   "metadata": {},
   "outputs": [
    {
     "data": {
      "text/html": [
       "<div>\n",
       "<style scoped>\n",
       "    .dataframe tbody tr th:only-of-type {\n",
       "        vertical-align: middle;\n",
       "    }\n",
       "\n",
       "    .dataframe tbody tr th {\n",
       "        vertical-align: top;\n",
       "    }\n",
       "\n",
       "    .dataframe thead th {\n",
       "        text-align: right;\n",
       "    }\n",
       "</style>\n",
       "<table border=\"1\" class=\"dataframe\">\n",
       "  <thead>\n",
       "    <tr style=\"text-align: right;\">\n",
       "      <th></th>\n",
       "      <th>qpk</th>\n",
       "      <th>qwp</th>\n",
       "      <th>qs</th>\n",
       "      <th>qpk10</th>\n",
       "      <th>qwp10</th>\n",
       "    </tr>\n",
       "  </thead>\n",
       "  <tbody>\n",
       "    <tr>\n",
       "      <th>401</th>\n",
       "      <td>0.27</td>\n",
       "      <td>0.13</td>\n",
       "      <td>0.32</td>\n",
       "      <td>0.36</td>\n",
       "      <td>0.17</td>\n",
       "    </tr>\n",
       "    <tr>\n",
       "      <th>402</th>\n",
       "      <td>0.30</td>\n",
       "      <td>0.15</td>\n",
       "      <td>0.36</td>\n",
       "      <td>0.38</td>\n",
       "      <td>0.17</td>\n",
       "    </tr>\n",
       "    <tr>\n",
       "      <th>404</th>\n",
       "      <td>0.20</td>\n",
       "      <td>0.10</td>\n",
       "      <td>0.25</td>\n",
       "      <td>0.35</td>\n",
       "      <td>0.17</td>\n",
       "    </tr>\n",
       "    <tr>\n",
       "      <th>406</th>\n",
       "      <td>0.29</td>\n",
       "      <td>0.14</td>\n",
       "      <td>0.37</td>\n",
       "      <td>0.37</td>\n",
       "      <td>0.17</td>\n",
       "    </tr>\n",
       "    <tr>\n",
       "      <th>408</th>\n",
       "      <td>0.44</td>\n",
       "      <td>0.24</td>\n",
       "      <td>0.50</td>\n",
       "      <td>0.39</td>\n",
       "      <td>0.13</td>\n",
       "    </tr>\n",
       "  </tbody>\n",
       "</table>\n",
       "</div>"
      ],
      "text/plain": [
       "      qpk   qwp    qs  qpk10  qwp10\n",
       "401  0.27  0.13  0.32   0.36   0.17\n",
       "402  0.30  0.15  0.36   0.38   0.17\n",
       "404  0.20  0.10  0.25   0.35   0.17\n",
       "406  0.29  0.14  0.37   0.37   0.17\n",
       "408  0.44  0.24  0.50   0.39   0.13"
      ]
     },
     "execution_count": 28,
     "metadata": {},
     "output_type": "execute_result"
    }
   ],
   "source": [
    "soils = pd.DataFrame(data = ([0.27, 0.13, 0.32, 0.36, 0.17],\n",
    "                    [0.30, 0.15, 0.36, 0.38, 0.17],\n",
    "                    [0.20, 0.10, 0.25, 0.35, 0.17],\n",
    "                    [0.29, 0.14, 0.37, 0.37, 0.17],\n",
    "                    [0.44, 0.24, 0.50, 0.39, 0.13],\n",
    "                    [0.19, 0.07, 0.26, 0.32, 0.11]),\n",
    "                    columns = [\"qpk\", \"qwp\", \"qs\", \"qpk10\", \"qwp10\"], \n",
    "                    index = [401, 402, 404, 406, 408, 1356])\n",
    "soils.head()"
   ]
  },
  {
   "cell_type": "markdown",
   "metadata": {},
   "source": [
    "### Get recharge and actual evapotranspiration data with running hydrotop method"
   ]
  },
  {
   "cell_type": "code",
   "execution_count": 29,
   "metadata": {},
   "outputs": [],
   "source": [
    "dp, eta = hydrotop(hydrotops_shp, precip, meteo1, landuse, soils)"
   ]
  },
  {
   "cell_type": "markdown",
   "metadata": {},
   "source": [
    "### Edit the recharge data and paste into the shapefile database"
   ]
  },
  {
   "cell_type": "code",
   "execution_count": 31,
   "metadata": {},
   "outputs": [
    {
     "data": {
      "text/html": [
       "<div>\n",
       "<style scoped>\n",
       "    .dataframe tbody tr th:only-of-type {\n",
       "        vertical-align: middle;\n",
       "    }\n",
       "\n",
       "    .dataframe tbody tr th {\n",
       "        vertical-align: top;\n",
       "    }\n",
       "\n",
       "    .dataframe thead th {\n",
       "        text-align: right;\n",
       "    }\n",
       "</style>\n",
       "<table border=\"1\" class=\"dataframe\">\n",
       "  <thead>\n",
       "    <tr style=\"text-align: right;\">\n",
       "      <th></th>\n",
       "      <th>9</th>\n",
       "      <th>10</th>\n",
       "      <th>5</th>\n",
       "      <th>6</th>\n",
       "      <th>1</th>\n",
       "      <th>2</th>\n",
       "      <th>44</th>\n",
       "      <th>45</th>\n",
       "      <th>46</th>\n",
       "      <th>47</th>\n",
       "      <th>...</th>\n",
       "      <th>41</th>\n",
       "      <th>50</th>\n",
       "      <th>51</th>\n",
       "      <th>13</th>\n",
       "      <th>42</th>\n",
       "      <th>43</th>\n",
       "      <th>22</th>\n",
       "      <th>23</th>\n",
       "      <th>3</th>\n",
       "      <th>4</th>\n",
       "    </tr>\n",
       "    <tr>\n",
       "      <th>date</th>\n",
       "      <th></th>\n",
       "      <th></th>\n",
       "      <th></th>\n",
       "      <th></th>\n",
       "      <th></th>\n",
       "      <th></th>\n",
       "      <th></th>\n",
       "      <th></th>\n",
       "      <th></th>\n",
       "      <th></th>\n",
       "      <th></th>\n",
       "      <th></th>\n",
       "      <th></th>\n",
       "      <th></th>\n",
       "      <th></th>\n",
       "      <th></th>\n",
       "      <th></th>\n",
       "      <th></th>\n",
       "      <th></th>\n",
       "      <th></th>\n",
       "      <th></th>\n",
       "    </tr>\n",
       "  </thead>\n",
       "  <tbody>\n",
       "    <tr>\n",
       "      <th>2013-11-30</th>\n",
       "      <td>84.579096</td>\n",
       "      <td>69.575792</td>\n",
       "      <td>66.203498</td>\n",
       "      <td>51.021057</td>\n",
       "      <td>47.432156</td>\n",
       "      <td>32.342913</td>\n",
       "      <td>0.030</td>\n",
       "      <td>0.030</td>\n",
       "      <td>0.030</td>\n",
       "      <td>0.030</td>\n",
       "      <td>...</td>\n",
       "      <td>36.460981</td>\n",
       "      <td>0.030</td>\n",
       "      <td>0.030</td>\n",
       "      <td>134.721608</td>\n",
       "      <td>89.831785</td>\n",
       "      <td>76.817059</td>\n",
       "      <td>138.621785</td>\n",
       "      <td>123.777059</td>\n",
       "      <td>104.347670</td>\n",
       "      <td>89.460588</td>\n",
       "    </tr>\n",
       "    <tr>\n",
       "      <th>2013-12-31</th>\n",
       "      <td>7.621997</td>\n",
       "      <td>14.999183</td>\n",
       "      <td>4.986396</td>\n",
       "      <td>12.559020</td>\n",
       "      <td>6.366949</td>\n",
       "      <td>13.837201</td>\n",
       "      <td>0.031</td>\n",
       "      <td>0.031</td>\n",
       "      <td>0.031</td>\n",
       "      <td>0.031</td>\n",
       "      <td>...</td>\n",
       "      <td>9.109183</td>\n",
       "      <td>0.031</td>\n",
       "      <td>0.031</td>\n",
       "      <td>7.621997</td>\n",
       "      <td>1.911997</td>\n",
       "      <td>9.109183</td>\n",
       "      <td>7.621997</td>\n",
       "      <td>14.999183</td>\n",
       "      <td>6.366949</td>\n",
       "      <td>13.837201</td>\n",
       "    </tr>\n",
       "  </tbody>\n",
       "</table>\n",
       "<p>2 rows × 51 columns</p>\n",
       "</div>"
      ],
      "text/plain": [
       "                   9          10         5          6          1          2   \\\n",
       "date                                                                           \n",
       "2013-11-30  84.579096  69.575792  66.203498  51.021057  47.432156  32.342913   \n",
       "2013-12-31   7.621997  14.999183   4.986396  12.559020   6.366949  13.837201   \n",
       "\n",
       "               44     45     46     47  ...         41     50     51  \\\n",
       "date                                    ...                            \n",
       "2013-11-30  0.030  0.030  0.030  0.030  ...  36.460981  0.030  0.030   \n",
       "2013-12-31  0.031  0.031  0.031  0.031  ...   9.109183  0.031  0.031   \n",
       "\n",
       "                    13         42         43          22          23  \\\n",
       "date                                                                   \n",
       "2013-11-30  134.721608  89.831785  76.817059  138.621785  123.777059   \n",
       "2013-12-31    7.621997   1.911997   9.109183    7.621997   14.999183   \n",
       "\n",
       "                    3          4   \n",
       "date                               \n",
       "2013-11-30  104.347670  89.460588  \n",
       "2013-12-31    6.366949  13.837201  \n",
       "\n",
       "[2 rows x 51 columns]"
      ]
     },
     "execution_count": 31,
     "metadata": {},
     "output_type": "execute_result"
    }
   ],
   "source": [
    "dp_month = dp.resample(\"m\").sum()\n",
    "dp_month.head()"
   ]
  },
  {
   "cell_type": "code",
   "execution_count": 32,
   "metadata": {},
   "outputs": [],
   "source": [
    "dp_month_df = dp_month.transpose()\n",
    "dp_month_df.columns = [\"nov.1885\", \"dec.1885\"]"
   ]
  },
  {
   "cell_type": "code",
   "execution_count": 33,
   "metadata": {},
   "outputs": [],
   "source": [
    "# Join the old hydrotopes database with the calculated groundwater recharge \n",
    "# estimates\n",
    "newhydrotops = hydrotops_shp.join(dp_month_df)"
   ]
  },
  {
   "cell_type": "markdown",
   "metadata": {},
   "source": [
    "### Plot the results"
   ]
  },
  {
   "cell_type": "code",
   "execution_count": 39,
   "metadata": {},
   "outputs": [
    {
     "data": {
      "text/plain": [
       "<matplotlib.axes._subplots.AxesSubplot at 0x1cd9c960128>"
      ]
     },
     "execution_count": 39,
     "metadata": {},
     "output_type": "execute_result"
    },
    {
     "data": {
      "image/png": "[encoded data removed]",
      "text/plain": [
       "<Figure size 432x288 with 2 Axes>"
      ]
     },
     "metadata": {
      "needs_background": "light"
     },
     "output_type": "display_data"
    }
   ],
   "source": [
    "import matplotlib.pyplot as plt\n",
    "fig, ax = plt.subplots(1,1)\n",
    "\n",
    "newhydrotops.plot(column=\"nov.1885\",ax=ax, legend=True, cmap=\"Blues\",\n",
    "                 legend_kwds={\"label\":\"Estimated Groundwater recharge [mm] for\"  \n",
    "                              \" the month of nov.1885 (fabricated values)\",\n",
    "                              \"orientation\": \"horizontal\"})"
   ]
  },
  {
   "cell_type": "code",
   "execution_count": null,
   "metadata": {},
   "outputs": [],
   "source": []
  }
 ],
 "metadata": {
  "kernelspec": {
   "display_name": "Python 3",
   "language": "python",
   "name": "python3"
  },
  "language_info": {
   "codemirror_mode": {
    "name": "ipython",
    "version": 3
   },
   "file_extension": ".py",
   "mimetype": "text/x-python",
   "name": "python",
   "nbconvert_exporter": "python",
   "pygments_lexer": "ipython3",
   "version": "3.7.3"
  }
 },
 "nbformat": 4,
 "nbformat_minor": 2
}
